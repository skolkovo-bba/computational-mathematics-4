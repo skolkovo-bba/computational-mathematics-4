{
 "cells": [
  {
   "cell_type": "markdown",
   "metadata": {},
   "source": [
    "## Численные методы решения ОДУ"
   ]
  },
  {
   "cell_type": "markdown",
   "metadata": {},
   "source": [
    "##### Задача Коши:\n",
    "$$\n",
    "    \\begin{align*}\n",
    "    & u_t (t) = f(t,u), \\; t \\in[0,T] \\\\\n",
    "    & u(0) = u_0\n",
    "    \\end{align*}\n",
    "$$"
   ]
  },
  {
   "cell_type": "markdown",
   "metadata": {},
   "source": [
    "- В рассчетной области вводятся узлы рассчетной сетки\n",
    "$$t_n = n h,\\; n = \\overline{0, N},\\; h = T/N$$\n",
    "- В качестве решения приближенной (аппроксимирующей) задачи рассматривается сеточная функция $U$, определенная в узлах сетки\n",
    "$$U_n \\approx u(t_n)$$\n",
    "\n",
    "Пример:\n",
    "$$\n",
    "\\begin{align*}\n",
    "    & \\frac{U_{n+1} - U_n}{h} = f(t_n,U_n), \\; n = \\overline{0, N-1} \\\\\n",
    "    & \\;U_0 = u_0\n",
    "\\end{align*}\n",
    "$$"
   ]
  },
  {
   "cell_type": "markdown",
   "metadata": {},
   "source": [
    "- Также вводится понятие *проекции* точного решения на расчетную сетку и ошибка как разность между проекцией точного решения и искомой сеточной функцией\n",
    "$$\n",
    "\\hat{U} = \\left[\\begin{array}{c} \n",
    "u(x_1) \\\\ \n",
    "u(x_2) \\\\\n",
    "\\vdots \\\\\n",
    "u(x_m)\n",
    "\\end{array}\\right], \\quad\n",
    "E = U - \\hat{U}\n",
    "$$"
   ]
  },
  {
   "cell_type": "markdown",
   "metadata": {},
   "source": [
    "> **Определение** (сходимость)\n",
    ">\n",
    "> Численное решение *сходится* к точному с порядком $p$, если $\\Vert E \\Vert = O(h^p),\\; h \\to 0$\n"
   ]
  },
  {
   "cell_type": "markdown",
   "metadata": {},
   "source": [
    "Запишем *разностную задачу* в следующем виде\n",
    "$$ L(U)=F $$\n",
    "Тогда\n",
    "$$ L(\\hat{U})=F+r $$\n",
    "где $r$-*невязка*.\n",
    "<!-- \n",
    "Пример:\n",
    "$$\n",
    "\\begin{align*}\n",
    " \\underbrace{\\frac{1}{h} \\left[\\begin{array}{cccccc}\n",
    "1 &    & \\\\\n",
    "  & -1 & 1 \\\\\n",
    "  &    & -1 & 1 \\\\\n",
    "  &    &    & \\ddots & \\ddots \\\\\n",
    "  &    &    &   & -1 & 1\n",
    "\\end{array}\\right]}_{A}U =\n",
    "\\underbrace{\\left[\\begin{array}{c}\n",
    "u_0 \\\\\n",
    "f(x_1) \\\\\n",
    "f(x_2) \\\\\n",
    "\\vdots \\\\\n",
    "f(x_n)\n",
    "\\end{array}\\right]}_{F}\n",
    "\\end{align*}\n",
    "$$ -->\n"
   ]
  },
  {
   "cell_type": "markdown",
   "metadata": {},
   "source": [
    "> **Определение** (аппроксимация)\n",
    ">\n",
    "> Разностная задача *аппроксимирует* дифференциальную задачу с порядком $p$, если $\\Vert r \\Vert = O(h^p)$\n",
    "\n",
    "Пример:\n",
    "$$ \\frac{u(t_{n+1}) - u(t_n)}{h} = f(t_n, u(t_n)) $$\n",
    "$$ \\left(u'(t_n) + \\frac{1}{2} h u''(t_n) + O(h^2) \\right) - u'(t_n) = \\frac{1}{2} h u''(t_n) + O(h^2)$$"
   ]
  },
  {
   "cell_type": "markdown",
   "metadata": {},
   "source": [
    "##### Связь ошибки и невязки, устойчивость\n"
   ]
  },
  {
   "cell_type": "markdown",
   "metadata": {},
   "source": [
    "> **Определение** (устойчивость)\n",
    ">\n",
    "> Численный метод называется устойчивым, если при $L(U)-F=\\xi$ и $L(V)-F=\\eta$ выполняется $\\|U-V\\| \\leq C (\\|\\xi\\|+\\|\\eta\\|)$."
   ]
  },
  {
   "cell_type": "markdown",
   "metadata": {},
   "source": [
    "$$\n",
    "\\begin{align*}\n",
    "& \\left\\{\\begin{array}{l}\n",
    "L_N(U) = F\\\\\n",
    "L_N(\\hat{U}) = F + r\n",
    "\\end{array}\n",
    "\\right., \\; L_N(E) = -r \\; ,E = L_N^{-1}(r) \\;, \\Vert E \\Vert \\le \\Vert A_N^{-1} \\Vert \\Vert r \\Vert\n",
    "\\end{align*}\n",
    "$$\n",
    "$h \\to 0$, $N \\to \\infty$\n",
    "\n",
    "Если $ \\Vert A_{N}^{-1} \\Vert \\le C \\quad \\forall N > N_0$:\n",
    "$$  \\Vert E \\Vert \\le \\Vert A_N^{-1} \\Vert \\Vert r \\Vert \\le C \\Vert r \\Vert $$\n",
    "\n",
    "<!-- >\n",
    "> Численный метод называется устойчивым, если $\\exists N_0 \\; : \\; \\Vert A_{N}^{-1} \\Vert \\le C \\;\\;\\; \\forall N > N_0$, $\\;C$ не зависит от $N$.\n",
    " -->"
   ]
  },
  {
   "cell_type": "markdown",
   "metadata": {},
   "source": [
    "> **Теорема** (Рябенького-Лакса)\n",
    ">\n",
    "> Если численный метод *аппроксимирует* дифференциальную задачу с порядком $p$ и является *устойчивым*, то численное решение *сходится* к точному решению с порядком $p$. "
   ]
  },
  {
   "cell_type": "markdown",
   "metadata": {},
   "source": [
    "- Аппроксимация + Устойчивость $\\Rightarrow$ Сходимость\n",
    "- Аппроксимацию и устойчивость можно проверить, не зная точное решение"
   ]
  },
  {
   "cell_type": "markdown",
   "metadata": {},
   "source": [
    "На практике, для исследования на устойчивость, рассматривается такая каноническая форма записи разностной схемы\n",
    "$$ U_{n+1} = R U_n + h\\rho_n$$ \n",
    "Чтобы ошибка была ограниченной (т.е. задача устойчивой) должно выполняться\n",
    "$$ \\|R^m\\| \\leq C, \\quad m =1,\\dots,N$$\n",
    "\n",
    "Пример исследования на устойчивость:\n",
    "$$\n",
    "U_{n+1} = (1 + h \\lambda) U_n + h  g(t_n)\n",
    "$$\n",
    "$$\n",
    "    \\begin{align*}\n",
    "    & \\left\\{\\begin{array}{l}\n",
    "    U_{n+1} = (1 + h \\lambda) U_n + h  g(t_n) \\\\\n",
    "    u(t_{n+1}) = (1 + h \\lambda) u(t_n) + h g(t_n) + h r_n\n",
    "    \\end{array}\\right. \\\\\n",
    "    & \\Rightarrow \\quad\n",
    "    E_{n+1} = (1 + h \\lambda) E_n - h r_n \\\\\n",
    "    & E_n = (1 + h \\lambda)^n E_0 - h \\sum_{m=1}^n (1 + h \\lambda)^{n-m} r_{m-1}\n",
    "    \\end{align*}\n",
    "$$\n",
    "$$\n",
    "    \\begin{align*}\n",
    "    & \\lvert 1 + h \\lambda \\rvert \\le \\exp(|\\lambda| h) \\Rightarrow (1 + h \\lambda) ^{n-m} \\le \\\\ \n",
    "    & e^{(n-m)h |\\lambda|} \\le e^{n h |\\lambda|} \\le e^{|\\lambda| T} , T = N h \\\\\n",
    "    & \\lvert E_n \\rvert \\le e^{|\\lambda| T} \\left(|E_0| + h \\sum_{m=1}^n \\lvert r_{m-1}\\rvert \\right) \\le \\\\\n",
    "    & e^{|\\lambda| T} \\left(\\lvert E_0 \\rvert + n h \\lVert r\\rVert_\\infty\\right) = e^{|\\lambda| T} \\left(\\lvert E_0 \\rvert + T \\lVert r\\rVert_\\infty\\right)\n",
    "    \\end{align*}\n",
    "$$"
   ]
  },
  {
   "cell_type": "markdown",
   "metadata": {},
   "source": [
    "Примеры простейших разностных уравнений:\n",
    "\n",
    "Явный метод Эйлера - $ \\frac{U_{n+1} - U_n}{h} = f(t_n,U_n), \\; n = \\overline{0, N-1}$\n",
    "\n",
    "Неявный метод Эйлера - $ \\frac{U_{n+1} - U_n}{h} = f(t_{n+1},U_{n+1}), \\; n = \\overline{0, N-1}$\n",
    "\n",
    "Метод Эйлера с центральной точкой - $ \\frac{U_{n+1} - U_{n-1}}{2h} = f(t_{n},U_{n}), \\; n = \\overline{1, N-1}$\n"
   ]
  },
  {
   "cell_type": "markdown",
   "metadata": {},
   "source": [
    "##### Связь с численным интегрированием\n",
    "\n",
    "$$ u(t_n+h) = u(t_n) + \\int_{t_n}^{t_n+h} u'(\\xi)d\\xi $$\n",
    "\n",
    "Аппроксимация интеграла по формуле прямоугольников:\n",
    "$$ u(t_n+h) = u(t_n) + h u'(t_n) + O(h^2) = u(t_n) + h f(t_n, u_n) + O(h^2) $$\n",
    "\n",
    "Аппроксимация интеграла по формуле трапеций:\n",
    "$$ u(t_n+h) = u(t_n) + \\frac{h}{2} \\left( u'(t_n) + u'(t_n+h) \\right) + O(h^3) $$\n",
    "$$ U_{n+1} = U_n + \\frac{h}{2} \\left( f(t_n, u_n) + f(t_{n+1}, u_{n + 1}) \\right)$$"
   ]
  },
  {
   "cell_type": "markdown",
   "metadata": {},
   "source": [
    "##### Методы высокого порядка\n",
    "- *Многошаговые методы*, пример:\n",
    "$$\n",
    "\\begin{align*}\n",
    "& \\frac{U_{n+1} - U_{n-1}}{2 h} = f(t_n, U_{n}) \\\\\n",
    "& U_{n+1} = U_{n-1} + 2 h f(t_n,U_n), n = 1,\\ldots,N\n",
    "\\end{align*}\n",
    "$$\n",
    "Нужно задать дополнительное условие $U_1 = \\ldots$\n",
    "\n",
    "- *Одношаговые многостадийные методы (м-ды Рунге-Кутты)*, пример:\n",
    "$$\n",
    "\\begin{align*}\n",
    "& k_1 = f(t_n,U_n) \\\\\n",
    "& k_2 = f(t_n + \\frac{h}{2}, U_n + \\frac{h}{2}k_1) \\\\\n",
    "& U_{n+1} = U_n + h k_2\n",
    "\\end{align*}\n",
    "$$"
   ]
  },
  {
   "cell_type": "markdown",
   "metadata": {},
   "source": [
    "##### Общий вид методов Рунге-Кутты:\n",
    "$$\n",
    "\\begin{align*}\n",
    "& k_i = f(t_n + c_i h, U_n + h \\sum_{j = 1}^s a_{ij} k_j), \\; i = 1,\\ldots, s \\\\\n",
    "& U_{n+1} = U_n + h \\sum_{j=1}^s b_j k_j\n",
    "\\end{align*}\n",
    "$$\n",
    "\n",
    "Таблица Бутчера:\n",
    "$$\n",
    "\\begin{align*}\n",
    "\\begin{array}{c|cccc}\n",
    "c_1    & a_{11} & a_{12}& \\dots & a_{1s}\\\\\n",
    "c_2    & a_{21} & a_{22}& \\dots & a_{2s}\\\\\n",
    "\\vdots & \\vdots & \\vdots& \\ddots& \\vdots\\\\\n",
    "c_s    & a_{s1} & a_{s2}& \\dots & a_{ss} \\\\\n",
    "\\hline\n",
    "       & b_1    & b_2   & \\dots & b_s\\\\\n",
    "\\end{array} = \n",
    "\\begin{array}{c|c}\n",
    "\\mathbf{c}& A\\\\\n",
    "\\hline\n",
    "          & \\mathbf{b^T} \\\\\n",
    "\\end{array}\n",
    "\\end{align*}\n",
    "$$"
   ]
  },
  {
   "cell_type": "markdown",
   "metadata": {},
   "source": [
    "##### Условия порядка методов РК\n",
    "- Упрощающие условия: $\\displaystyle \\sum_{j=1}^{s} a_{ij} = c_i, i=1,\\ldots,s$\n",
    "\n",
    "- Первый порядок: $\\displaystyle \\sum_{j=1}^{s} b_j = 1$\n",
    "\n",
    "- Второй порядок (+ к предыдущим): $\\displaystyle  \\sum_{j=1}^{s} b_j c_j = \\frac{1}{2}$\n",
    "\n",
    "- Третий порядок (+ к предыдущим):\n",
    "$$\n",
    "\\begin{align*}\n",
    "& \\sum_{j=1}^{s} b_j c_j^2 = \\frac{1}{3} \\quad , \\sum_{i=1}^{s} \\sum_{j=1}^{s} b_i a_{ij} c_j = \\frac{1}{6}\n",
    "\\end{align*}\n",
    "$$"
   ]
  },
  {
   "cell_type": "markdown",
   "metadata": {},
   "source": [
    "> **Теорема** (первый барьер Бутчера)\n",
    ">\n",
    "> Среди явных методов РК с числом стадий пять не существует методов пятого порядка аппроксимации."
   ]
  },
  {
   "cell_type": "markdown",
   "metadata": {},
   "source": [
    "##### Устойчивость методов РК\n",
    "\n",
    "Рассмотрим определенный пример\n",
    "$$\n",
    "\\begin{align*}\n",
    "& k_1 = f(U_n), \\; k_2 = f( U_n + \\frac{h}{2} k_1), \\; U_{n+1} = U_n + h k_2 \\\\\n",
    "\n",
    "& U_{n+1} = U_n + h \\Psi(U_n, t_n, h), \\; \\Psi(u, t, h) = f(u + \\frac{1}{2} h f(u)) \\\\\n",
    "\n",
    "& |\\Psi(u_1, h) - \\Psi(u_2, h)| \\le  L |u_1 + \\frac{1}{2} h f(u_1) - u_2 - \\frac{1}{2} h f(u_2)| \\le \\\\\n",
    "\n",
    "& L|u_1 - u_2| + \\frac{1}{2} h L^2 |u_1 - u_2| = (L + \\frac{1}{2}h L^2) |u_1 - u_2|\n",
    "\\end{align*}\n",
    "$$\n",
    "\n",
    "<!-- \\item<7-> $r_n = (u(t_{n+1}) - u(t_n))/h - \\Psi(u(t_n), t_n, h)$\n",
    "\\item<8-> $u(t_{n+1}) = u(t_n) + h \\Psi(u(t_n), t_n, h) - h r_n$\n",
    "\\item<9-> $|E_{n+1}| = \\bigg|E_n + h \\bigg(\\Psi(U_n, t_n, h) - \\Psi (u(t_n), t_n, h)\\bigg) - h r_n \\bigg| \\le |E_n| + hL' |E_n|+h r_n$ -->\n"
   ]
  },
  {
   "cell_type": "markdown",
   "metadata": {},
   "source": [
    "Запишем выражение для невязки\n",
    "$$ r_n = (u(t_{n+1}) - u(t_n))/h - \\Psi(u(t_n), t_n, h) $$\n",
    "$$ u(t_{n+1}) = u(t_n) + h \\Psi(u(t_n), t_n, h) - h r_n $$\n",
    "\n",
    "Получаем\n",
    "$$ |E_{n+1}| = \\bigg|E_n + h \\bigg(\\Psi(U_n, t_n, h) - \\Psi (u(t_n), t_n, h)\\bigg) - h r_n \\bigg| \\le |E_n| + hC |E_n|+h r_n $$"
   ]
  },
  {
   "cell_type": "markdown",
   "metadata": {},
   "source": [
    "###### Автоматический выбор шага\n",
    "- Для начальных данных $U_0, t_0$ сделаем:\n",
    "    - Два шага длины $h$: $U_1, U_2$\n",
    "    - Один шаг длины $2h$: $\\widetilde{U}_2$\n",
    "- Для метода порядка $p$: \n",
    "$$\n",
    "\\begin{align*}\n",
    "    & e_2 = u(t_0 + 2 h) - U_2 = 2 C h^{p+1} + O(h^{p+2}) \\\\\n",
    "    & \\widetilde{e}_2 = u(t_0 + 2 h) - \\widetilde{U}_2 = C(2h)^{p+1} + O(h^{p+2})\n",
    "\\end{align*}\n",
    "$$\n",
    "- $\\displaystyle e_2 \\approx \\frac{U_2 - \\widetilde{U}_2}{2^p - 1}$\n",
    "- Чтобы $e_2(h) < \\epsilon$: $\\displaystyle h_{new} = h \\left(\\frac{\\epsilon}{e_2}\\right)^{1/(p+1)}$"
   ]
  }
 ],
 "metadata": {
  "language_info": {
   "name": "python"
  }
 },
 "nbformat": 4,
 "nbformat_minor": 2
}
