{
 "cells": [
  {
   "cell_type": "markdown",
   "metadata": {},
   "source": [
    "# Численное интегрирование\n",
    "\n",
    "> **Задача численного интегрирования**\n",
    ">\n",
    "> Дана процедура вычисления значений $f(x)$. Найти приближенное значение определенного интеграла\n",
    "> $$ S(f) \\approx I(f) = \\int_a^b f(x) dx $$\n",
    "\n",
    "> **Основная идея**\n",
    ">\n",
    "> Приблизить $f$ *простой* функцией $\\phi$, а функцию $\\phi$ проинтегрировать точно."
   ]
  },
  {
   "cell_type": "markdown",
   "metadata": {},
   "source": [
    "#### Интерполяционные квадратурные формулы (ф-лы Ньютона-Котеса)\n",
    "\n",
    "- Введем сетку на отрезке $[a,b]$:\n",
    "$$\n",
    "x_1, \\ldots, x_n \\in [a,b]\n",
    "$$\n",
    "\n",
    "- Построим интерполяционный многочлен:\n",
    "$$\n",
    "L_{n-1}(x) = \\sum_{i=1}^n f(x_i) l_i(x)  = \\sum_{i=1}^n f(x_i) \\prod_{j=1, \\; j\\ne i}^n \\frac{x - x_j}{x_i - x_j}\n",
    "$$\n",
    "\n",
    "- Проинтегрируем по $[a,b]$\n",
    "$$\n",
    "S(f) = \\int_a^b L_{n-1} (x) \\, dx = \\underline{\\sum_{i=1}^n d_i \\, f(x_i)}, \\; d_i = \\int\\limits_{a}^b l_i(x) \\, dx\n",
    "%\\prod_{j=1,\\;j\\ne i}^n \\frac{t - t_j}{t_i - t_j} \\, dt\n",
    "$$"
   ]
  },
  {
   "cell_type": "markdown",
   "metadata": {},
   "source": [
    "#### Точность квадратурных формул\n",
    "\n",
    "Если $f \\in C^n[a,b]$, то из формулы для ошибки интерполяции получаем:\n",
    "$$\n",
    "\\lvert I(f) - S(f) \\rvert \\le \\frac{\\max_{[a,b]} |f^{(n)}|}{n!} \\int\\limits_{a}^{b} \\bigg| \\prod_{j=1}^n (x -x_j)\\bigg| \\, dx\n",
    "$$"
   ]
  },
  {
   "cell_type": "markdown",
   "metadata": {},
   "source": [
    "#### Примеры квадратурных формул\n",
    "\n",
    "- Формула прямоугольников с центральной точкой: \n",
    "$$ S(f) = f\\left(\\frac{a+b}{2}\\right) h, \\,  \\quad \\lvert I(f) - S(f)\\rvert \\le \\frac{1}{4}M_1 h^2, \\; h = b-a$$\n",
    "$$ f \\in C^2 : \\, \\lvert I(f) - S(f) \\rvert \\le \\frac{1}{24} M_2 h^3$$\n",
    "\n",
    "- Формула трапеций: \n",
    "$$\n",
    "S(f) = \\frac{1}{2} (f(a) + f(b)) h, \\, \\quad \\lvert I(f) - S(f)\\rvert \\le \\frac{1}{12} M_2 h^3\n",
    "$$\n",
    "\n",
    "- Формула Симпсона:\n",
    "$$\n",
    "S(f) = \\frac{h}{6} \\left(f(a) + 4f\\left(\\frac{a+b}{2}\\right) + f(b)\\right), \\; \\quad E \\le C h^5\n",
    "$$\n",
    "\n",
    "- Правило $3/8$:\n",
    "$$\n",
    "S(f) = \\frac{h}{8} \\left(f(a) + 3f\\left(\\frac{2a+b}{3}\\right) + 3f\\left(\\frac{a+2b}{3}\\right) + f(b)\\right), \\; \\quad E \\le C h^5\n",
    "$$\n"
   ]
  },
  {
   "cell_type": "markdown",
   "metadata": {},
   "source": [
    "#### Составные квадратурные формулы\n",
    "\n",
    "- отрезок $[a,b]$ разбивается на $N$ отрезков длины $h = \\frac{b-a}{N}$\n",
    "\n",
    "- на каждом отрезке применяется квадратурная формула, результаты складываются\n",
    "\n",
    "- если квадратурная формула имеет порядок точности $p$, то для составной формулы получается  порядок $p-1$:\n",
    "$$\n",
    "E = N \\, O(h^p) = \\frac{b-a}{h} O(h^{p}) = O(h^{p-1}) \n",
    "$$"
   ]
  },
  {
   "cell_type": "markdown",
   "metadata": {},
   "source": [
    "#### Правило Рунге и Экстраполяция Ричардсона\n",
    "\n",
    "- Пусть для приближенного вычисления значения $I$ интеграла применяется некая квадратурная формула p-го порядка аппроксимации $S$ из семейства составных формул Ньютона–Котеса\n",
    "$$ I(f) = S_1(f)+c_1h^p $$\n",
    "\n",
    "- При уменьшении отрезка вдвое (т.е. при увличении кол-ва узлов в 2 раза) получим\n",
    "$$ I(f) = S_2(f) + c_2(h/2)^p $$\n",
    "\n",
    "- При малых $h$ выполняется $c_1 \\approx c_2$ тогда \n",
    "$$ S_1(f)+c_1h^p \\approx S_2(f) + c_1(h/2)^p $$\n",
    "$$ c_1 \\approx c_2 \\approx \\frac{S_2(f) - S_1(f)}{h^p - (h/2)^p} $$\n",
    "\n",
    "- *Правило Рунге* для контроля точности\n",
    "$$ I(f) - S_2(f) \\approx \\frac{S_2 - S_1}{2^n - 1} $$\n",
    "$\\quad$ условие применения $|2^p \\frac{S_2 - S_1}{S_1 - S_0} - 1|<0.1$, $S_0$ - на сетке с шагом $2h$\n",
    "\n",
    "- *Экстраполяция Ричардсона* позволяет повысить порядок точности\n",
    "$$ S^{(p+1)}(f) = S_2(f) + \\frac{S_2(f) - S_1(f)}{2^p - 1} + O(h^{p+1}) $$"
   ]
  },
  {
   "cell_type": "markdown",
   "metadata": {},
   "source": [
    "#### Квадратурные формулы Гаусса\n",
    "\n",
    "> Говорят, что $S(f)$ имеет алгебраическую точность $m$, если она точна $(I(f) = S(f))$ для многочленов степени $\\le m$\n",
    "\n",
    "При каком выборе узлов $x_i$ и весов $d_i$ алгебраическая точность квадратурной формулы\n",
    "$$\n",
    "\\int_{-1}^{1} f(x) \\, dx = \\sum_{i=1}^{n} d_i f(x_i) \n",
    "$$\n",
    "будет максимальной.\n",
    "\n",
    "> **Теорема**\n",
    ">\n",
    "> Если в качестве узлов квадратурной формулы (см. выше) взять нули полиномов Лежандра $q_n(x): q_n(x_i) = 0, i = 1, …, n,$ а в качестве весов интегралы от базисных функций многочленов Лагранжа $l_i(x)$ степени $n – 1$, а именно\n",
    "> $$ d_i = \\int_{-1}^{1}\\frac{(x-x_1)(x-x_2)\\ldots(x-x_n)}{(x_i-x_1)(x_i-x_2)\\ldots(x_i-x_n)}dx$$\n",
    "> то квадратурная формула будет будет иметь алгебраическую точность $2n – 1$.\n",
    "\n",
    "Способ отборажения отрезка $[-1, 1]$ на $[a, b]$ \n",
    "$$\n",
    "x = x(t) = \\frac{a+b}{2} + \\frac{b - a}{2} t, \\quad t_1, \\ldots, t_n \\in [-1,1], \\; x_i = x(t_i)\n",
    "$$\n",
    "\n",
    "Оценка погрешности в этом случае\n",
    "$$E = \\dfrac{(n!)^4 (b-a)^{2n+1}}{\\left((2n)!\\right)^3 (2n+1)} f^{2n}(\\xi), \\quad \\xi \\in [a,b] $$\n"
   ]
  },
  {
   "cell_type": "code",
   "execution_count": 14,
   "metadata": {},
   "outputs": [
    {
     "name": "stdout",
     "output_type": "stream",
     "text": [
      "Error trapezoidal  = 8.333e-04\n",
      "Error gauss = 1.554e-15\n"
     ]
    }
   ],
   "source": [
    "import numpy as np\n",
    "from scipy import integrate\n",
    "\n",
    "f = lambda x: 1/(1 + x**2)\n",
    "I_ex = np.pi/2 \n",
    "n = 20\n",
    "h = 2/n\n",
    "x = np.linspace(-1, 1, n+1)\n",
    "fval = f(x)\n",
    "I_tr = h * (np.sum(fval) - 0.5*(fval[0] + fval[-1]))\n",
    "Ig, a = integrate.fixed_quad(f, -1, 1, n = 20)\n",
    "print('Error trapezoidal  = {0:6.3e}\\nError gauss = {1:6.3e}'.\n",
    "      format(np.abs(I_tr - I_ex), np.abs(Ig - I_ex)))"
   ]
  },
  {
   "cell_type": "markdown",
   "metadata": {},
   "source": [
    "#### Квадратурные формулы Гаусса-Кристоффеля\n",
    "\n",
    "Формулы Гаусса можно построить для интегралов вида:\n",
    "$$\n",
    "I(f) = \\int_{-1}^{+1} w(x) f(x) \\, dx\n",
    "$$\n",
    "где $w(x) \\ge 0$ - *весовая функция*\n",
    "\n",
    "В этом случае \n",
    "$$ d_i = \\int_{-1}^{1}\\frac{(x-x_1)(x-x_2)\\ldots(x-x_n)}{(x_i-x_1)(x_i-x_2)\\ldots(x_i-x_n)}w(x)dx$$"
   ]
  },
  {
   "cell_type": "markdown",
   "metadata": {},
   "source": [
    "#### Вычисление несобственных интегралов\n",
    "$$\n",
    "\\int_{a}^b f(x) \\, dx, \\quad f(x) \\to \\infty \\;\\text{ при }\\; x \\to a\n",
    "$$\n",
    "Пример:\n",
    "$$ \\int_0^1 \\frac{\\cos x}{\\sqrt{x}}\\, dx $$\n",
    "- Замена переменной $x = t^2 \\Rightarrow I = 2 \\int_{0}^{1} \\cos t^2 \\, dt$\n",
    "\n",
    "- Интегрирование по частям $$ I = \\int_0^1 \\frac{\\cos x}{\\sqrt{x}}\\, dx = 2 \\sqrt{x} \\cos x\\bigg|_0^1 + 2 \\int_0^1 \\sqrt{x} \\sin x \\, dx $$\n",
    "    - Второй интеграл можно вычислить по квадратурной формуле\n",
    "    - 2-я производная $\\sqrt{x} \\sin x$ не ограничена, можно ещё раз проинтегрировать по частям\n",
    "\n",
    "- Выделение особенности\n",
    "$$\n",
    "\\begin{align*}\n",
    "    & I = I_1 + I_2 = \\int_0^\\delta \\frac{\\cos x}{\\sqrt{x}} \\,dx + \\int_{\\delta}^1 \\frac{\\cos x}{\\sqrt{x}}\\,dx\\\\ \n",
    "    & I_1 =  \\int_0^\\delta \\frac{\\displaystyle \\sum_{k=0}^\\infty (-1)^k\\frac{x^{2k}}{(2k)!}}{\\sqrt{x}} \\, dx = \\sum_{k=0}^n \\frac{(-1)^k \\delta^{2k+1/2}}{(2k)!(2k+1/2)} + R\n",
    "\\end{align*}\n",
    "$$\n",
    "$\\vert R \\vert$ не больше последнего члена частичной суммы\n",
    "\n",
    "- Использование квадратурных формул для интеграла с весом $w$:\n",
    "$$ I = \\int_{0}^{1} w(x) \\, \\cos x \\, dx, \\; w(x) = \\frac{1}{\\sqrt{x}} $$\n"
   ]
  },
  {
   "cell_type": "markdown",
   "metadata": {},
   "source": [
    "#### Метод Монте Карло\n",
    "$I_\\Omega$ - кратный интеграл по области $\\Omega$\n",
    "\n",
    "Имеется *случайный* набор из $M$ точек в области $\\Mu$, при этом $K \\leq M$ точек принадлежат $ \\Omega$ \n",
    "\n",
    "$$ I_\\Omega \\approx \\sum_{k = 1}^K \\frac{f(t_k)}{M} $$"
   ]
  },
  {
   "cell_type": "markdown",
   "metadata": {},
   "source": [
    "Геометрический алгоритм \n",
    "\n",
    "<p align=\"center\">\n",
    "<img src=\"Mc_integration.jpg\" alt=\"MonteCarlo\" width=\"500\"/>\n",
    "</p>"
   ]
  }
 ],
 "metadata": {
  "kernelspec": {
   "display_name": "base",
   "language": "python",
   "name": "python3"
  },
  "language_info": {
   "codemirror_mode": {
    "name": "ipython",
    "version": 3
   },
   "file_extension": ".py",
   "mimetype": "text/x-python",
   "name": "python",
   "nbconvert_exporter": "python",
   "pygments_lexer": "ipython3",
   "version": "3.7.0"
  }
 },
 "nbformat": 4,
 "nbformat_minor": 2
}
