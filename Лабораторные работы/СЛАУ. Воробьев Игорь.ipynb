{
 "cells": [
  {
   "cell_type": "code",
   "execution_count": 372,
   "metadata": {},
   "outputs": [],
   "source": [
    "import numpy as np\n",
    "from matplotlib import pyplot as plt"
   ]
  },
  {
   "cell_type": "markdown",
   "metadata": {},
   "source": [
    "## Вариант 6. Воробьев Игорь"
   ]
  },
  {
   "cell_type": "markdown",
   "metadata": {},
   "source": [
    "Решить систему уравнений с помощью LU-разложения и метода Якоби с точностью\n",
    "$10^{-3}$, сравнить результаты. Построить график ошибки и критерия останова на каждой итерации метода Якоби. Проверить строгое диагональное преобладание, решить задачу со значительным нарушением диагонального преобладания (изменить коэффициенты матрицы), построить график ошибки."
   ]
  },
  {
   "cell_type": "code",
   "execution_count": 373,
   "metadata": {},
   "outputs": [],
   "source": [
    "A = np.array([\n",
    "    [13.1, -4.91, 3.7, -3.58, 2.4],\n",
    "    [0, -10.04, -2.43, 3.3, 4.43],\n",
    "    [-2.06, 3.49, -11.32, 2.47, -2.32],\n",
    "    [3.62, -1.78, 2.52, 8.79, 0.21],\n",
    "    [2.64, 0, -3.86, 4.7, 12.8]\n",
    "])\n",
    "\n",
    "f = np.array([137.63, 104.76, -123.4, 135.61, 157.9])"
   ]
  },
  {
   "cell_type": "markdown",
   "metadata": {},
   "source": [
    "#### Решаем с помощью LU-разложения"
   ]
  },
  {
   "cell_type": "code",
   "execution_count": 374,
   "metadata": {},
   "outputs": [],
   "source": [
    "# LU декомпозиция\n",
    "def lu_decomposition(A):\n",
    "    N = len(A)\n",
    "    L = np.zeros_like(A)\n",
    "    U = np.zeros_like(A)\n",
    "    \n",
    "    for i in range(N):\n",
    "        L[i][i] = 1\n",
    "        for j in range(i, N):\n",
    "            sum1 = np.float64(0)\n",
    "            for k in range(i):\n",
    "                sum1 += L[i][k] * U[k][j]\n",
    "            U[i][j] = A[i][j] - sum1\n",
    "        \n",
    "        for j in range(i+1, N):\n",
    "            sum2 = np.float64(0)\n",
    "            for k in range(i):\n",
    "                sum2 += L[j][k] * U[k][i]\n",
    "            L[j][i] = (A[j][i] - sum2) / U[i][i]\n",
    "            \n",
    "    return L, U\n",
    "\n",
    "# Прямая\n",
    "def forward_substitution(L, b):\n",
    "    N = len(b)\n",
    "    y = np.zeros_like(b)\n",
    "    \n",
    "    for i in range(N):\n",
    "        sum1 = np.float64(0)\n",
    "        for j in range(i):\n",
    "            sum1 += L[i][j] * y[j]\n",
    "        y[i] = (b[i] - sum1) / L[i][i]\n",
    "    \n",
    "    return y\n",
    "\n",
    "# Обратная\n",
    "def backward_substitution(U, y):\n",
    "    N = len(y)\n",
    "    x = np.zeros_like(y)\n",
    "    \n",
    "    for i in range(N-1, -1, -1):\n",
    "        sum1 = np.float64(0)\n",
    "        for j in range(i+1, N):\n",
    "            sum1 += U[i][j] * x[j]\n",
    "        x[i] = (y[i] - sum1) / U[i][i]\n",
    "    \n",
    "    return x"
   ]
  },
  {
   "cell_type": "code",
   "execution_count": 375,
   "metadata": {},
   "outputs": [
    {
     "data": {
      "text/plain": [
       "array([ 7., -5.,  8.,  9., 10.])"
      ]
     },
     "execution_count": 375,
     "metadata": {},
     "output_type": "execute_result"
    }
   ],
   "source": [
    "L, U = lu_decomposition(A)\n",
    "y = forward_substitution(L, f)\n",
    "x_lu = backward_substitution(U, y)\n",
    "\n",
    "x_lu"
   ]
  },
  {
   "cell_type": "markdown",
   "metadata": {},
   "source": [
    "Сравним с эталоном"
   ]
  },
  {
   "cell_type": "code",
   "execution_count": 376,
   "metadata": {},
   "outputs": [
    {
     "data": {
      "text/plain": [
       "array([ 7., -5.,  8.,  9., 10.])"
      ]
     },
     "execution_count": 376,
     "metadata": {},
     "output_type": "execute_result"
    }
   ],
   "source": [
    "from scipy.linalg import lu_factor, lu_solve\n",
    "\n",
    "lu, piv = lu_factor(A)\n",
    "x_lu_py = lu_solve((lu, piv), f)\n",
    "\n",
    "x_lu_py"
   ]
  },
  {
   "cell_type": "markdown",
   "metadata": {},
   "source": [
    "#### Решение методом Якоби с точностью $10^{-3}$"
   ]
  },
  {
   "cell_type": "markdown",
   "metadata": {},
   "source": [
    "TODO dot, norm, diag\n",
    "TODO Формулы в текст"
   ]
  },
  {
   "cell_type": "code",
   "execution_count": 377,
   "metadata": {},
   "outputs": [],
   "source": [
    "# Якоби\n",
    "def jacobi_method(A, b, tolerance=1e-3, max_iterations=100):\n",
    "    x = np.zeros_like(b)\n",
    "    D = np.diag(np.diag(A))\n",
    "    R = A - D\n",
    "    \n",
    "    for _ in range(max_iterations):\n",
    "        x_new = (b - np.dot(R, x)) / np.diag(A)\n",
    "        if np.linalg.norm(x_new - x) < tolerance:\n",
    "            print(np.linalg.norm(x_new - x), tolerance)\n",
    "            return x_new\n",
    "        x = x_new\n",
    "    \n",
    "    return x"
   ]
  },
  {
   "cell_type": "code",
   "execution_count": 378,
   "metadata": {},
   "outputs": [
    {
     "name": "stdout",
     "output_type": "stream",
     "text": [
      "0.0005999554802687348 0.001\n"
     ]
    },
    {
     "data": {
      "text/plain": [
       "array([ 7.00012176, -5.0000871 ,  8.00010436,  9.00014184, 10.00004491])"
      ]
     },
     "execution_count": 378,
     "metadata": {},
     "output_type": "execute_result"
    }
   ],
   "source": [
    "x_jacobi = jacobi_method(A, f)\n",
    "\n",
    "x_jacobi"
   ]
  },
  {
   "cell_type": "markdown",
   "metadata": {},
   "source": [
    "#### Сравним решения"
   ]
  },
  {
   "cell_type": "code",
   "execution_count": 379,
   "metadata": {},
   "outputs": [
    {
     "name": "stdout",
     "output_type": "stream",
     "text": [
      "[ 7. -5.  8.  9. 10.]\n",
      "[ 7.00012176 -5.0000871   8.00010436  9.00014184 10.00004491]\n",
      "[ 7. -5.  8.  9. 10.]\n"
     ]
    }
   ],
   "source": [
    "print(x_lu, x_jacobi, x_lu_py, sep=\"\\n\")"
   ]
  },
  {
   "cell_type": "markdown",
   "metadata": {},
   "source": [
    "#### Построить график ошибки и критерия останова на каждой итерации метода Якоби."
   ]
  },
  {
   "cell_type": "code",
   "execution_count": 380,
   "metadata": {},
   "outputs": [],
   "source": [
    "error = []\n",
    "ostan = []\n",
    "\n",
    "# С записью ошибок и критерия останова\n",
    "def jacobi_method_logs(A, b, tolerance=1e-3, max_iterations=100):\n",
    "    global error, ostan\n",
    "\n",
    "    x = np.zeros_like(b)\n",
    "    D = np.diag(np.diag(A))\n",
    "    R = A - D\n",
    "    \n",
    "    for _ in range(max_iterations):\n",
    "        x_new = (b - np.dot(R, x)) / np.diag(A)\n",
    "        error.append(np.linalg.norm(x_new - x_lu_py))\n",
    "        ostan.append(np.linalg.norm(x_new - x))\n",
    "        if np.linalg.norm(x_new - x) < tolerance:\n",
    "            return x_new\n",
    "        x = x_new\n",
    "    \n",
    "    return x"
   ]
  },
  {
   "cell_type": "code",
   "execution_count": 381,
   "metadata": {},
   "outputs": [
    {
     "data": {
      "text/plain": [
       "array([ 7.00012176, -5.0000871 ,  8.00010436,  9.00014184, 10.00004491])"
      ]
     },
     "execution_count": 381,
     "metadata": {},
     "output_type": "execute_result"
    }
   ],
   "source": [
    "jacobi_method_logs(A, f)"
   ]
  },
  {
   "cell_type": "code",
   "execution_count": 382,
   "metadata": {},
   "outputs": [
    {
     "name": "stderr",
     "output_type": "stream",
     "text": [
      "/tmp/ipykernel_4555/2868297263.py:2: MatplotlibDeprecationWarning: Auto-removal of overlapping axes is deprecated since 3.6 and will be removed two minor releases later; explicitly call ax.remove() as needed.\n",
      "  plt.subplot(2, 1, 1)\n"
     ]
    },
    {
     "data": {
      "image/png": "[encoded data removed]",
      "text/plain": [
       "<Figure size 1200x1200 with 2 Axes>"
      ]
     },
     "metadata": {},
     "output_type": "display_data"
    },
    {
     "name": "stdout",
     "output_type": "stream",
     "text": [
      "0.00023545795478755827 0.0005999554802687348\n"
     ]
    }
   ],
   "source": [
    "fig, ax = plt.subplots(figsize = (12,12))\n",
    "plt.subplot(2, 1, 1)\n",
    "plt.plot(error, c = 'red', label = 'Ошибка')\n",
    "plt.grid()\n",
    "plt.xlabel('Номер итерации')\n",
    "plt.ylabel('Ошибка')\n",
    "\n",
    "plt.subplot(2, 1, 2)\n",
    "plt.plot(ostan, c = 'blue', label = 'Критерий останова')\n",
    "plt.grid()\n",
    "plt.xlabel('Номер итерации')\n",
    "plt.ylabel('Критерий останова')\n",
    "plt.show()\n",
    "print(error[-1], ostan[-1])"
   ]
  },
  {
   "cell_type": "markdown",
   "metadata": {},
   "source": [
    "#### Проверить строгое диагональное преобладание"
   ]
  },
  {
   "cell_type": "code",
   "execution_count": 383,
   "metadata": {},
   "outputs": [
    {
     "name": "stdout",
     "output_type": "stream",
     "text": [
      "13.1 14.59\n"
     ]
    },
    {
     "data": {
      "text/plain": [
       "False"
      ]
     },
     "execution_count": 383,
     "metadata": {},
     "output_type": "execute_result"
    }
   ],
   "source": [
    "def is_strictly_diagonally_dominant(matrix):\n",
    "    # Получаем размер матрицы\n",
    "    n = matrix.shape[0]\n",
    "    \n",
    "    # Проверяем строгое диагональное преобладание\n",
    "    for i in range(n):\n",
    "        # Сумма модулей всех элементов строки, кроме диагонального\n",
    "        row_sum = np.float64(0)\n",
    "        for j in range(n):\n",
    "            if i != j:\n",
    "                row_sum += abs(matrix[i, j])\n",
    "        # Модуль диагонального элемента\n",
    "        diag_element = abs(matrix[i, i])\n",
    "        # Проверяем условие\n",
    "        if float(diag_element) <= float(row_sum):\n",
    "            print(diag_element, row_sum)\n",
    "            return False\n",
    "    return True\n",
    "\n",
    "# Проверка матрицы на строгое диагональное преобладание\n",
    "is_strictly_diagonally_dominant(A)"
   ]
  },
  {
   "cell_type": "markdown",
   "metadata": {},
   "source": [
    "#### Решить задачу со значительным нарушением диагонального преобладания (изменить коэффициенты матрицы), построить график ошибки"
   ]
  },
  {
   "cell_type": "code",
   "execution_count": 384,
   "metadata": {},
   "outputs": [],
   "source": [
    "A_ = np.array([\n",
    "    [13.1, -4.91, 3.7, -3.58, 2.4],\n",
    "    [12, -10.04, -2.43, 3.3, 4.43],\n",
    "    [-2.06, 3.49, -11.32, 2.47, -2.32],\n",
    "    [3.62, -1.78, 2.52, 8.79, 0.21],\n",
    "    [2.64, 12, -3.86, 4.7, 12.8]\n",
    "])"
   ]
  },
  {
   "cell_type": "code",
   "execution_count": 385,
   "metadata": {},
   "outputs": [
    {
     "name": "stdout",
     "output_type": "stream",
     "text": [
      "13.1 14.59\n"
     ]
    },
    {
     "data": {
      "text/plain": [
       "False"
      ]
     },
     "execution_count": 385,
     "metadata": {},
     "output_type": "execute_result"
    }
   ],
   "source": [
    "is_strictly_diagonally_dominant(A_)"
   ]
  },
  {
   "cell_type": "code",
   "execution_count": 386,
   "metadata": {},
   "outputs": [
    {
     "data": {
      "text/plain": [
       "array([10.47123654,  4.8165548 , 11.19370875,  8.74218351,  5.82647296])"
      ]
     },
     "execution_count": 386,
     "metadata": {},
     "output_type": "execute_result"
    }
   ],
   "source": [
    "error = []\n",
    "ostan = []\n",
    "\n",
    "jacobi_method_logs(A_, f)"
   ]
  },
  {
   "cell_type": "code",
   "execution_count": 387,
   "metadata": {},
   "outputs": [
    {
     "name": "stderr",
     "output_type": "stream",
     "text": [
      "/tmp/ipykernel_4555/1500357887.py:2: MatplotlibDeprecationWarning: Auto-removal of overlapping axes is deprecated since 3.6 and will be removed two minor releases later; explicitly call ax.remove() as needed.\n",
      "  plt.subplot(2, 1, 1)\n"
     ]
    },
    {
     "data": {
      "text/plain": [
       "Text(0, 0.5, 'Ошибка')"
      ]
     },
     "execution_count": 387,
     "metadata": {},
     "output_type": "execute_result"
    },
    {
     "data": {
      "image/png": "[encoded data removed]",
      "text/plain": [
       "<Figure size 1200x1200 with 1 Axes>"
      ]
     },
     "metadata": {},
     "output_type": "display_data"
    }
   ],
   "source": [
    "fig, ax = plt.subplots(figsize = (12,12))\n",
    "plt.subplot(2, 1, 1)\n",
    "plt.plot(error, c = 'red', label = 'Ошибка')\n",
    "plt.grid()\n",
    "plt.xlabel('Номер итерации')\n",
    "plt.ylabel('Ошибка')"
   ]
  }
 ],
 "metadata": {
  "kernelspec": {
   "display_name": "base",
   "language": "python",
   "name": "python3"
  },
  "language_info": {
   "codemirror_mode": {
    "name": "ipython",
    "version": 3
   },
   "file_extension": ".py",
   "mimetype": "text/x-python",
   "name": "python",
   "nbconvert_exporter": "python",
   "pygments_lexer": "ipython3",
   "version": "3.11.5"
  }
 },
 "nbformat": 4,
 "nbformat_minor": 2
}
