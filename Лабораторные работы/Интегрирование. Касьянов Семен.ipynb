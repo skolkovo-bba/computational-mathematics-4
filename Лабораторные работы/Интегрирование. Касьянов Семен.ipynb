{
 "cells": [
  {
   "cell_type": "markdown",
   "metadata": {},
   "source": [
    "## Касьянов Семен. Вариант 4"
   ]
  },
  {
   "cell_type": "code",
   "execution_count": 51,
   "metadata": {},
   "outputs": [],
   "source": [
    "import matplotlib.pyplot as plt\n",
    "import numpy as np"
   ]
  },
  {
   "cell_type": "markdown",
   "metadata": {},
   "source": [
    "## Задание\n",
    "Определить шаг интегрирования для точности $10^{-4}$ по формуле остаточного члена интерполяции формулы прямоугольников. Вычислить интеграл $\\int\\limits_1^{2.2}\\cfrac{dx}{x^3 + x}$ по формуле прямоугольников, правилу 3/8 и методу Чебышева по трём точкам. Определить погрешность по правилу Рунге, сравнить с действительной ошибкой, выьрать наиболее точный метод. Построить график ошибки от шага интегрирования для наиболее точного метода Ньютона-Котеса."
   ]
  },
  {
   "cell_type": "markdown",
   "metadata": {},
   "source": [
    "Точное значение интеграла, посчитанное с помощью Photomath, равняется: $\\frac{1}{2}\\,\\ln(\\frac{121}{73})\\,=\\,0.252666$"
   ]
  },
  {
   "cell_type": "code",
   "execution_count": 25,
   "metadata": {},
   "outputs": [],
   "source": [
    "int_value = 1/2 * np.log(121/73)\n",
    "eps = 10**(-4)"
   ]
  },
  {
   "cell_type": "code",
   "execution_count": 26,
   "metadata": {},
   "outputs": [],
   "source": [
    "# Функция, вычисляющая значение подынтегральной функции\n",
    "def function(x):\n",
    "    \n",
    "    return 1 / (x**3 + x)"
   ]
  },
  {
   "cell_type": "code",
   "execution_count": 58,
   "metadata": {},
   "outputs": [],
   "source": [
    "# Функция, возвращающая массив точек разбиения заданного отрезка\n",
    "def point(n):\n",
    "\n",
    "    a = np.linspace(1, 2.2, n)\n",
    "    return a\n"
   ]
  },
  {
   "cell_type": "markdown",
   "metadata": {},
   "source": [
    "## Метод прямоугольников"
   ]
  },
  {
   "cell_type": "markdown",
   "metadata": {},
   "source": [
    "$I^n=h \\sum_{k=1}^n f(x_k)$ - квадратурная формула метода правых прямоугольников"
   ]
  },
  {
   "cell_type": "markdown",
   "metadata": {},
   "source": [
    "$\\varepsilon\\, \\le\\, \\cfrac{h(b\\, -\\, a)}{2}\\,\\displaystyle\\max_{a\\,\\le\\,x\\,\\le\\,b}\\,f^{'}(x) $"
   ]
  },
  {
   "cell_type": "code",
   "execution_count": 28,
   "metadata": {},
   "outputs": [
    {
     "data": {
      "text/plain": [
       "0.0001666666666666667"
      ]
     },
     "execution_count": 28,
     "metadata": {},
     "output_type": "execute_result"
    }
   ],
   "source": [
    "# Вычислим h\n",
    "h = 2 * eps / 1.2\n",
    "h"
   ]
  },
  {
   "cell_type": "markdown",
   "metadata": {},
   "source": [
    "Максимум производной подынтегральной функции на заданном отрезке равен 1. В таком случае $h\\,=\\,\\cfrac{2\\,\\varepsilon}{b - a}\\,=\\, \\frac{5}{3}*10^{-4}$"
   ]
  },
  {
   "cell_type": "code",
   "execution_count": 32,
   "metadata": {},
   "outputs": [
    {
     "data": {
      "text/plain": [
       "0.2525952813109808"
      ]
     },
     "execution_count": 32,
     "metadata": {},
     "output_type": "execute_result"
    }
   ],
   "source": [
    "# Определим количество точек разбиения, зная шаг\n",
    "n = int(1.2 / h) + 1\n",
    "# Получим точки разбиения\n",
    "points = point(n)\n",
    "\n",
    "# Вычислим интеграл по квадратурной формуле\n",
    "Isq = 0\n",
    "for i in points[1::]:\n",
    "    Isq += function(i)\n",
    "Isq = Isq * h\n",
    "Isq"
   ]
  },
  {
   "cell_type": "code",
   "execution_count": 33,
   "metadata": {},
   "outputs": [
    {
     "name": "stdout",
     "output_type": "stream",
     "text": [
      "7.027091319417034e-05\n"
     ]
    }
   ],
   "source": [
    "#Рассчитаем погрешность данного метода\n",
    "print(abs(int_value - Isq))"
   ]
  },
  {
   "cell_type": "markdown",
   "metadata": {},
   "source": [
    "Как мы видим погрешность вычислений по согласно данному методу составила $\\approx 7*10^{-5}$"
   ]
  },
  {
   "cell_type": "markdown",
   "metadata": {},
   "source": [
    "## Правило 3/8"
   ]
  },
  {
   "cell_type": "code",
   "execution_count": 34,
   "metadata": {},
   "outputs": [
    {
     "data": {
      "text/plain": [
       "0.2526304634509363"
      ]
     },
     "execution_count": 34,
     "metadata": {},
     "output_type": "execute_result"
    }
   ],
   "source": [
    "I3 = 0\n",
    "for i in range(1, len(points)):\n",
    "    I3 += (function(points[i - 1]) + 3 * function(points[i - 1] + h/3) + 3 * function(points[i - 1] + 2*h/3) + function(points[i])) / 8\n",
    "I3 = I3 * h\n",
    "I3"
   ]
  },
  {
   "cell_type": "code",
   "execution_count": 35,
   "metadata": {},
   "outputs": [
    {
     "name": "stdout",
     "output_type": "stream",
     "text": [
      "3.5088773238656223e-05\n"
     ]
    }
   ],
   "source": [
    "#Рассчитаем погрешность данного метода\n",
    "print(abs(int_value - I3))"
   ]
  },
  {
   "cell_type": "markdown",
   "metadata": {},
   "source": [
    "Как мы видим погрешность вычислений по согласно данному методу составила $\\approx 3.5*10^{-5}$. Примерно в два раза меньше, чем по формуле правых прямоугольников"
   ]
  },
  {
   "cell_type": "markdown",
   "metadata": {},
   "source": [
    "## Метод Чебышева"
   ]
  },
  {
   "cell_type": "markdown",
   "metadata": {},
   "source": [
    "В случае вычисления интеграла по методу Чебышева по трём точкам мы используем следующую формулу:\\\n",
    "\\\n",
    "$\\int\\limits_{-1}^{1}f(x)\\,dx\\,=\\,\\cfrac{2}{3}\\,(f(-\\cfrac{1}{\\sqrt{2}})\\,+\\,f(0)\\,+\\,f(\\cfrac{1}{\\sqrt{2}}))$\\\n",
    "\\\n",
    "Для преобразования отрезка $[a, b]$ в $[-1, 1]$ используем следующую формулу:\\\n",
    "\\\n",
    "$x\\,=\\,\\cfrac{b\\,+\\,a}{2}\\,+\\,\\cfrac{b\\,-\\,a}{2}\\,z$"
   ]
  },
  {
   "cell_type": "code",
   "execution_count": 36,
   "metadata": {},
   "outputs": [
    {
     "data": {
      "text/plain": [
       "0.2517933447068943"
      ]
     },
     "execution_count": 36,
     "metadata": {},
     "output_type": "execute_result"
    }
   ],
   "source": [
    "#Создадим список точек, на которых будем вычислять:\n",
    "points1 = [-np.sqrt(1/2), 0, np.sqrt(1/2)]\n",
    "points = [(1 + 2.2) / 2 + (2.2 - 1) / 2 * i for i in points1] # Используем именно этот список точек\n",
    "\n",
    "# Вычислим интеграл\n",
    "I = 0\n",
    "for i in points:\n",
    "    I += function(i)\n",
    "I *= 1.2 / 3\n",
    "I"
   ]
  },
  {
   "cell_type": "code",
   "execution_count": 37,
   "metadata": {},
   "outputs": [
    {
     "name": "stdout",
     "output_type": "stream",
     "text": [
      "0.0008722075172806765\n"
     ]
    }
   ],
   "source": [
    "# Погрешность\n",
    "print(abs(I - int_value))"
   ]
  },
  {
   "cell_type": "markdown",
   "metadata": {},
   "source": [
    "Как мы можем видеть, погрешность метода Чебышева на трёх точках составила $\\approx 8.7*10^{-4}$, что значительно больше погрешностей двух предыдущих методов, но находится в пределах допустимой погрешности данного метода на трёх точках: $\\varepsilon\\,=\\,\\frac{1}{360}\\,\\displaystyle\\max_{a\\,\\le\\,x\\,\\le\\,b}f^{(IV)}(x) = 0.075$"
   ]
  },
  {
   "cell_type": "markdown",
   "metadata": {},
   "source": [
    "## Правило Рунге"
   ]
  },
  {
   "cell_type": "markdown",
   "metadata": {},
   "source": [
    "Для вычисления погрешности методов правых прямоугольников и 3/8 мы используем следующую формулу:\\\n",
    "\\\n",
    "$I - I^{p}(\\frac{h}{2})\\,=\\,\\cfrac{I^{p}(\\frac{h}{2})\\,-\\,I^{p}(h)}{2^{p}\\,-\\,1}$\\\n",
    "\\\n",
    "Значения интеграла, которые были вычислены нами до этого соответствуют $I^{p}(\\frac{h}{2})$. Соответственно, нам нужно определить значения на разбиении с удвоенным шагом.\\\n",
    "\\\n",
    "Методу прямоугольников соответствует $p = 1$, правилу 3/8 - $p = 4$"
   ]
  },
  {
   "cell_type": "code",
   "execution_count": 13,
   "metadata": {},
   "outputs": [
    {
     "data": {
      "text/plain": [
       "7.026671709420285e-05"
      ]
     },
     "execution_count": 13,
     "metadata": {},
     "output_type": "execute_result"
    }
   ],
   "source": [
    "# Метод прямоугольников\n",
    "hnew = h * 2\n",
    "\n",
    "n = int(1.2 / hnew) + 1\n",
    "points = point(n)\n",
    "\n",
    "# Вычислим интеграл по квадратурной формуле\n",
    "I = 0\n",
    "for i in points[1::]:\n",
    "    I += function(i)\n",
    "I = I * hnew\n",
    "\n",
    "#Рассчитаем погрешность для прямоугольников\n",
    "errorsq = (Isq - I) / (1)\n",
    "errorsq"
   ]
  },
  {
   "cell_type": "markdown",
   "metadata": {},
   "source": [
    "Как мы видим, ошибка метода по правилу Рунге имеет расхождение с точными вычислениями в 8-м знаке после запятой"
   ]
  },
  {
   "cell_type": "code",
   "execution_count": 14,
   "metadata": {},
   "outputs": [
    {
     "data": {
      "text/plain": [
       "0.008421305507345347"
      ]
     },
     "execution_count": 14,
     "metadata": {},
     "output_type": "execute_result"
    }
   ],
   "source": [
    "# Правило 3/8\n",
    "hnew = h * 2\n",
    "\n",
    "n = int(1.2 / hnew) + 1\n",
    "points = point(n)\n",
    "\n",
    "I = 0\n",
    "for i in range(1, len(points)):\n",
    "    I += (function(points[i - 1]) + 3 * function(points[i - 1] + h/3) + 3 * function(points[i - 1] + 2*h/3) + function(points[i])) / 8\n",
    "I = I * h\n",
    "I\n",
    "\n",
    "# Рассчитаем погрешность для правила 3/8\n",
    "error3 = (I3 - I) / (15)\n",
    "error3"
   ]
  },
  {
   "cell_type": "markdown",
   "metadata": {},
   "source": [
    "Погрешность правила 3/8 равна $\\approx 0.0084$ в соответствии с правилом Рунге, что оказалось больше действительной ошибки\\\n",
    "\\\n",
    "По результатам вычислений интеграла, самым точным оказалось правило 3/8, которое мы исследуем далее"
   ]
  },
  {
   "cell_type": "markdown",
   "metadata": {},
   "source": [
    "## График ошибки от шага интегрирования"
   ]
  },
  {
   "cell_type": "code",
   "execution_count": null,
   "metadata": {},
   "outputs": [],
   "source": [
    "ns = [i for i in range (2, 10000)] # Здесь храним количество точек разбиений\n",
    "errors = [] # Здесь будем сохранять ошибки\n",
    "hs = [] # Здесь храним шаги разбиений\n",
    "\n",
    "for n in ns:\n",
    "    print(n)\n",
    "    h = 1.2 / (n - 1) # Получим шаг разбиения\n",
    "    hs.append(h)\n",
    "    points = point(n)\n",
    "\n",
    "    # Вычислим интеграл по квадратурной формуле\n",
    "    I = 0\n",
    "    for i in range(1, len(points)):\n",
    "        I += (function(points[i - 1]) + 3 * function(points[i - 1] + h/3) + 3 * function(points[i - 1] + 2*h/3) + function(points[i])) / 8\n",
    "    I = I * h\n",
    "    errors.append(abs(int_value - I))"
   ]
  },
  {
   "cell_type": "code",
   "execution_count": 46,
   "metadata": {},
   "outputs": [
    {
     "data": {
      "image/png": "[encoded data removed]",
      "text/plain": [
       "<Figure size 1600x900 with 1 Axes>"
      ]
     },
     "metadata": {},
     "output_type": "display_data"
    }
   ],
   "source": [
    "fig, ax = plt.subplots(figsize = (16, 9))\n",
    "plt.grid()\n",
    "plt.plot(hs, errors)\n",
    "plt.xlabel('Длина шага')\n",
    "plt.ylabel('Величина ошибки')\n",
    "plt.title('Зависимость ошибки правила 3/8 от шага разбиения')\n",
    "plt.show()"
   ]
  }
 ],
 "metadata": {
  "kernelspec": {
   "display_name": "Python 3",
   "language": "python",
   "name": "python3"
  },
  "language_info": {
   "codemirror_mode": {
    "name": "ipython",
    "version": 3
   },
   "file_extension": ".py",
   "mimetype": "text/x-python",
   "name": "python",
   "nbconvert_exporter": "python",
   "pygments_lexer": "ipython3",
   "version": "3.11.4"
  }
 },
 "nbformat": 4,
 "nbformat_minor": 2
}
