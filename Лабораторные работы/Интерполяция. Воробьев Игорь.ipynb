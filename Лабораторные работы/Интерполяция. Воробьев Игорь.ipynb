{
 "cells": [
  {
   "cell_type": "markdown",
   "metadata": {},
   "source": [
    "## Воробьев Игорь. Вариант 1"
   ]
  },
  {
   "cell_type": "markdown",
   "metadata": {},
   "source": [
    "### Задание"
   ]
  },
  {
   "cell_type": "markdown",
   "metadata": {},
   "source": [
    "Для функции $(x + 1)|x^2 - 2|$ провести интерполяцию на интервале [0, 2]. Сравнить\n",
    "полином Лагранжа, свободный сплайн 3 порядка и заданную функцию, построить\n",
    "графики решения на подробной сетке. Найти подходящий шаг интерполяции для обоих\n",
    "методов и выбрать наилучшую интерполяцию на основе нормы ошибки, рассчитанной\n",
    "на подробной сетке. Построить график максимальной ошибки от шага интерполяции.\n",
    "Протестировать функцию без модуля, найти подходящий шаг интерполяции, сравнить\n",
    "результаты."
   ]
  },
  {
   "cell_type": "code",
   "execution_count": null,
   "metadata": {
    "vscode": {
     "languageId": "plaintext"
    }
   },
   "outputs": [],
   "source": [
    "from matplotlib import pyplot as plt\n",
    "import numpy as np"
   ]
  }
 ],
 "metadata": {
  "language_info": {
   "name": "python"
  }
 },
 "nbformat": 4,
 "nbformat_minor": 2
}
