{
 "cells": [
  {
   "cell_type": "code",
   "execution_count": 42,
   "metadata": {},
   "outputs": [],
   "source": [
    "import numpy as np\n",
    "from matplotlib import pyplot as plt"
   ]
  },
  {
   "cell_type": "markdown",
   "metadata": {},
   "source": [
    "## Вариант 9. Касьянов Семен"
   ]
  },
  {
   "cell_type": "markdown",
   "metadata": {},
   "source": [
    "## Постановка задачи\n",
    "Решить систему уравнений с помощью LU-разложения и метода минимальных невязок с точность $10^{-3}$, сравнить результаты. Построить график ошибки (норма разности между точным и приближённым решением) и выбранного критерия останова на каждой итерации. Проверить строгое диагональное преобладание, решить задачу с нарушением диагонального преобладания (изменить коэффициенты матрицы). Построить график ошибки.\n",
    "\n"
   ]
  },
  {
   "cell_type": "markdown",
   "metadata": {},
   "source": [
    "В качестве входных данных используем матрицы следующего вида:\n",
    "$$ A = \\begin{bmatrix}\n",
    "-10.3 & 0 & -2.18 & 1.79 & 2.93 \\\\\n",
    "0 & -8.53 & 1.3 & 2.61 & 3.83 \\\\\n",
    "-2.18 & 1.3 & -11.07 & 3.42 & -2.27 \\\\\n",
    "1.79 & 2.61 & 3.42 & -12.34 & 0 \\\\\n",
    "2.93 & 3.83 & -2.27 & 0 & 9.2 \\\\\n",
    "\n",
    "\\end{bmatrix} \\quad\n",
    "b = \\begin{bmatrix}\n",
    "-33.41 \\\\\n",
    "-63.34 \\\\\n",
    "38.52 \\\\\n",
    "41.76 \\\\\n",
    "18.62 \\\\\n",
    "\\end{bmatrix}$$"
   ]
  },
  {
   "cell_type": "markdown",
   "metadata": {},
   "source": [
    "Воспользуемся встроенным в $numpy$ методом для решения данной СЛАУ"
   ]
  },
  {
   "cell_type": "code",
   "execution_count": 43,
   "metadata": {},
   "outputs": [
    {
     "name": "stdout",
     "output_type": "stream",
     "text": [
      "[ 3.  5. -4. -3. -2.]\n"
     ]
    }
   ],
   "source": [
    "A = np.array([[-10.3, 0, -2.18, 1.79, 2.93],\n",
    "             [0, -8.53, 1.3, 2.61, 3.83],\n",
    "             [-2.18, 1.3, -11.07, 3.42, -2.27],\n",
    "             [1.79, 2.61, 3.42, -12.34, 0],\n",
    "             [2.93, 3.83, -2.27, 0, 9.2]])\n",
    "\n",
    "b = np.array([-33.41, -63.34, 38.52, 41.76, 18.62])\n",
    "print(np.linalg.inv(A) @ b)"
   ]
  },
  {
   "cell_type": "markdown",
   "metadata": {},
   "source": [
    "Как мы видим точное решение имеет вид:\n",
    "$$x = \\begin{bmatrix}\n",
    "3 \\\\\n",
    "5 \\\\\n",
    "-4 \\\\\n",
    "-3 \\\\\n",
    "-2 \\\\\n",
    "\\end{bmatrix}$$\n",
    "Оно будет выступать в качестве ориентира при решении СЛАУ различными методами"
   ]
  },
  {
   "cell_type": "markdown",
   "metadata": {},
   "source": [
    "## LU-разложение"
   ]
  },
  {
   "cell_type": "markdown",
   "metadata": {},
   "source": [
    "Зададим две матрицы L и U, которые выступят основой метода LU-разложения"
   ]
  },
  {
   "cell_type": "code",
   "execution_count": 44,
   "metadata": {},
   "outputs": [],
   "source": [
    "L = np.zeros((5, 5))\n",
    "U = np.zeros((5, 5))"
   ]
  },
  {
   "cell_type": "markdown",
   "metadata": {},
   "source": [
    "Воспользуемся алгоритмом для нахождения матриц L и U:\n",
    "\\begin{aligned}\n",
    "& a_{11}=u_{11}, a_{12}=u_{12}, \\ldots \\\\\n",
    "& u_{i j}=a_{i j}-\\sum_{k=1}^{i-1} l_{i k} u_{k j}, i \\leq j ; \\quad l_{i j}=u_{j j}^{-1}\\left(a_{i j}-\\sum_{k=1}^{j-1} l_{i k} u_{k j}\\right), i>j\n",
    "\\end{aligned}"
   ]
  },
  {
   "cell_type": "code",
   "execution_count": 45,
   "metadata": {},
   "outputs": [],
   "source": [
    "for i in range (5):\n",
    "    L[i][i] = 1\n",
    "\n",
    "for i in range (5):\n",
    "    for j in range (5):\n",
    "        if i <= j:\n",
    "            sum = 0\n",
    "            for k in range (i+1):\n",
    "                sum += L[i][k] * U[k][j]\n",
    "            U[i][j] = A[i][j] - sum\n",
    "\n",
    "        else:\n",
    "            sum = 0\n",
    "            for k in range (j+1):\n",
    "                sum += L[i][k] * U[k][j]\n",
    "            L[i][j] = 1/U[j][j] * (A[i][j] - sum)\n",
    "\n"
   ]
  },
  {
   "cell_type": "markdown",
   "metadata": {},
   "source": [
    "Посчитав матрицы L и U, сделаем обратный ход и вычислим сначала y, а затем x:"
   ]
  },
  {
   "cell_type": "code",
   "execution_count": 46,
   "metadata": {},
   "outputs": [],
   "source": [
    "y = np.zeros([5,1])\n",
    "y[0] = b[0]\n",
    "x = np.zeros([5,1])\n",
    "for i in range (1, 5):\n",
    "    sum = 0\n",
    "    for j in range (i):\n",
    "        sum += y[j]*L[i][j]\n",
    "    y[i] = b[i] - sum"
   ]
  },
  {
   "cell_type": "code",
   "execution_count": 47,
   "metadata": {},
   "outputs": [
    {
     "data": {
      "text/plain": [
       "array([[ 3.],\n",
       "       [ 5.],\n",
       "       [-4.],\n",
       "       [-3.],\n",
       "       [-2.]])"
      ]
     },
     "execution_count": 47,
     "metadata": {},
     "output_type": "execute_result"
    }
   ],
   "source": [
    "x = np.zeros([5,1])\n",
    "x[4] = y[4]/U[4][4]\n",
    "for k in range (3, -1, -1):\n",
    "    sum = 0\n",
    "    for j in range (k+1, 5):\n",
    "        sum += U[k][j] * x[j]\n",
    "    x[k] = (1 / U[k][k]) * (y[k] - sum)\n",
    "x"
   ]
  },
  {
   "cell_type": "markdown",
   "metadata": {},
   "source": [
    "Выведем полученные корни данной СЛАУ. Как можно увидеть, они совпали с теми, которые были посчитаны с помощью $\\text{np.linalg}$"
   ]
  },
  {
   "cell_type": "code",
   "execution_count": 48,
   "metadata": {},
   "outputs": [
    {
     "data": {
      "text/plain": [
       "array([ 3,  5, -4, -3, -2])"
      ]
     },
     "execution_count": 48,
     "metadata": {},
     "output_type": "execute_result"
    }
   ],
   "source": [
    "res = np.array([3, 5, -4, -3, -2])\n",
    "res "
   ]
  },
  {
   "cell_type": "markdown",
   "metadata": {},
   "source": [
    "## Метод минимальных невязок"
   ]
  },
  {
   "cell_type": "markdown",
   "metadata": {},
   "source": [
    "## Метод\n",
    "Для решения СЛАУ итерационным методом минимальных невязок мы используем следующие соотношения: \\\n",
    "\\\n",
    "$x_{k+1}=x_k-\\tau_k\\left(A x_k-f\\right), r_k=A x_k-f$ \\\n",
    "\\\n",
    "$\\tau_k=\\frac{\\left(A r_k, r_k\\right)}{\\left(A r_k, A r_k\\right)}=\\frac{\\sum_{i=1}^n r_i^{(k)} \\sum_{j=1}^n a_{i j} r_j^{(k)}}{\\sum_{l=1}^n \\sum_{i=1}^n a_{l i} r_i^{(k)} \\sum_{j=1}^n a_{i j} r_j^{(k)}}$"
   ]
  },
  {
   "cell_type": "markdown",
   "metadata": {},
   "source": [
    "Реализуем две функции: умножения матриц и вычисления нормы. В качестве нормы используем евклидову"
   ]
  },
  {
   "cell_type": "code",
   "execution_count": 49,
   "metadata": {},
   "outputs": [],
   "source": [
    "def mulp (A, x):\n",
    "    y = [0, 0, 0, 0, 0]\n",
    "    for i in range (5):\n",
    "        for j in range (5):\n",
    "            y[i] += A[i][j] * x[j]\n",
    "    y = np.array(y)\n",
    "    return y"
   ]
  },
  {
   "cell_type": "code",
   "execution_count": 50,
   "metadata": {},
   "outputs": [],
   "source": [
    "def norm (x):\n",
    "    sum = 0\n",
    "    for i in range (5):\n",
    "        sum += x[i]**2\n",
    "    return np.sqrt(sum)"
   ]
  },
  {
   "cell_type": "markdown",
   "metadata": {},
   "source": [
    "Зададим начальное приближение ответа в виде столбца из нулей $x^{0}$ и рассчитаем $r^{0}$"
   ]
  },
  {
   "cell_type": "code",
   "execution_count": 51,
   "metadata": {},
   "outputs": [],
   "source": [
    "x = np.array([0, 0, 0, 0, 0])\n",
    "rk = mulp(A, x) - b\n",
    "rk = np.array(rk)"
   ]
  },
  {
   "cell_type": "markdown",
   "metadata": {},
   "source": [
    "Вычислим $\\tau^{0} = A*x^{0} - b$"
   ]
  },
  {
   "cell_type": "code",
   "execution_count": 52,
   "metadata": {},
   "outputs": [],
   "source": [
    "Ark = mulp(A, rk)\n",
    "numerator = 0\n",
    "denominator = 0\n",
    "for i in range (5):\n",
    "    numerator += Ark[i] * rk[i]\n",
    "    denominator += Ark[i]**2\n",
    "tao = numerator / denominator"
   ]
  },
  {
   "cell_type": "markdown",
   "metadata": {},
   "source": [
    "Теперь зададим цикл, который итеративно будет считать приближенное решение по формуле $x^{k+1} = x^{k} - \\tau^{k} * r^{k}$"
   ]
  },
  {
   "cell_type": "code",
   "execution_count": 53,
   "metadata": {},
   "outputs": [
    {
     "data": {
      "text/plain": [
       "(array([ 2.99999075,  5.00009346, -3.99992835, -2.99993003, -1.99997832]), 66)"
      ]
     },
     "execution_count": 53,
     "metadata": {},
     "output_type": "execute_result"
    }
   ],
   "source": [
    "xk = x\n",
    "taok = tao\n",
    "k = 0\n",
    "error = [] # заполняем значением ошибки на каждой итерации\n",
    "ostan = [] # заполняем значением невязки на каждой итерации\n",
    "while norm(rk) > 0.001:\n",
    "    ostan.append(norm(rk))\n",
    "    error.append(norm(res - xk))\n",
    "    k += 1\n",
    "    xk = xk - taok*rk\n",
    "    rk = mulp(A, xk) - b\n",
    "    numerator = 0\n",
    "    denominator = 0\n",
    "    Ark = mulp(A, rk)\n",
    "    for i in range (5):\n",
    "        numerator += Ark[i] * rk[i]\n",
    "        denominator += Ark[i]**2\n",
    "    taok = numerator / denominator \n",
    "else:\n",
    "    xk = xk - taok*rk\n",
    "    \n",
    "xk, k"
   ]
  },
  {
   "cell_type": "markdown",
   "metadata": {},
   "source": [
    "Как видно, полученное с помощью метода минимальных невязок решение имеет следующий вид: \n",
    "$$ x = \\begin{bmatrix}\n",
    "2.99999075 \\\\\n",
    "5.00009346 \\\\\n",
    "-3.99992835 \\\\\n",
    "-2.99993003 \\\\\n",
    "-1.99997832 \\\\\n",
    "\\end{bmatrix}$$\n",
    "Для его вычисления алгоритму понадобилось 67 итераций. \\\n",
    "\\\n",
    "Оно почти совпадает с точным решением СЛАУ. Если продолжить итерационный метод, то в конце концов алгоритм начнёт выдавать точное значение решения. \\\n",
    "\\\n",
    "Приведём ниже графики значений ошибки и нормы невязки на каждой итерации."
   ]
  },
  {
   "cell_type": "code",
   "execution_count": 54,
   "metadata": {},
   "outputs": [
    {
     "data": {
      "image/png": "[encoded data removed]",
      "text/plain": [
       "<Figure size 1200x1200 with 2 Axes>"
      ]
     },
     "metadata": {},
     "output_type": "display_data"
    }
   ],
   "source": [
    "import warnings\n",
    "warnings.filterwarnings('ignore')\n",
    "\n",
    "fig, ax = plt.subplots(figsize = (12,12))\n",
    "plt.subplot(2, 1, 1)\n",
    "plt.plot(error, c = 'red', label = 'Ошибка')\n",
    "plt.grid()\n",
    "plt.xlabel('Номер итерации')\n",
    "plt.ylabel('Значение ошибки')\n",
    "\n",
    "plt.subplot(2, 1, 2)\n",
    "plt.plot(ostan, c = 'blue', label = 'Критерий останова')\n",
    "plt.grid()\n",
    "plt.xlabel('Номер итерации')\n",
    "plt.ylabel('Значение нормы невязки')\n",
    "plt.show()\n"
   ]
  },
  {
   "cell_type": "markdown",
   "metadata": {},
   "source": [
    "## Диагональное преобладание"
   ]
  },
  {
   "cell_type": "markdown",
   "metadata": {},
   "source": [
    "Как можно увидеть, матрица А в данной работе обладает строим диагональным преобладанием. \\\n",
    "\\\n",
    "Его преимущество состоит в том, что итерационные методы решения СЛАУ с таким свойством сходятся к точному решению, которое существует и единственно. \\\n",
    "\\\n",
    "Попробуем нарушить его, изменив значения в матрице, а затем решим систему."
   ]
  },
  {
   "cell_type": "code",
   "execution_count": 55,
   "metadata": {},
   "outputs": [
    {
     "data": {
      "text/plain": [
       "1"
      ]
     },
     "execution_count": 55,
     "metadata": {},
     "output_type": "execute_result"
    }
   ],
   "source": [
    "# Проверим диагональное преобладание с помощью цикла\n",
    "k = 1\n",
    "for i in range (5):\n",
    "    sum = 0\n",
    "    for j in range (5):\n",
    "        if i != j:\n",
    "            sum += abs(A[i][j])\n",
    "    if abs(A[i][i]) < sum:\n",
    "        k = 0\n",
    "k"
   ]
  },
  {
   "cell_type": "markdown",
   "metadata": {},
   "source": [
    "Действительно, матрица А обладает свойством диагонального преобладания"
   ]
  },
  {
   "cell_type": "code",
   "execution_count": 62,
   "metadata": {},
   "outputs": [],
   "source": [
    "A = np.array([[-10.3, 50.74, -2.18, 1.79, 2.93],\n",
    "             [27.61, -8.53, 1.3, 2.61, 3.83],\n",
    "             [-2.18, 1.3, -11.07, 30.42, -2.27],\n",
    "             [1.79, 81.61, 3.42, -12.34, 0],\n",
    "             [2.93, 3.83, -2.27, 69.42, 9.2]])"
   ]
  },
  {
   "cell_type": "markdown",
   "metadata": {},
   "source": [
    "Решение, которое может быть получено с помощью $numpy$ приведено ниже"
   ]
  },
  {
   "cell_type": "code",
   "execution_count": 57,
   "metadata": {},
   "outputs": [
    {
     "data": {
      "text/plain": [
       "array([ -0.24876022,   0.6070297 ,   8.4812425 ,   2.94491589,\n",
       "       -18.2782279 ])"
      ]
     },
     "execution_count": 57,
     "metadata": {},
     "output_type": "execute_result"
    }
   ],
   "source": [
    "res = np.linalg.inv(A) @ b\n",
    "res"
   ]
  },
  {
   "cell_type": "markdown",
   "metadata": {},
   "source": [
    "Попробуем решить СЛАУ с помощью метода LU-разложения"
   ]
  },
  {
   "cell_type": "code",
   "execution_count": 65,
   "metadata": {},
   "outputs": [
    {
     "data": {
      "text/plain": [
       "array([[ -0.24876022],\n",
       "       [  0.6070297 ],\n",
       "       [  8.4812425 ],\n",
       "       [  2.94491589],\n",
       "       [-18.2782279 ]])"
      ]
     },
     "execution_count": 65,
     "metadata": {},
     "output_type": "execute_result"
    }
   ],
   "source": [
    "L = np.zeros((5, 5))\n",
    "U = np.zeros((5, 5))\n",
    "\n",
    "for i in range (5):\n",
    "    L[i][i] = 1\n",
    "\n",
    "for i in range (5):\n",
    "    for j in range (5):\n",
    "        if i <= j:\n",
    "            sum = 0\n",
    "            for k in range (i+1):\n",
    "                sum += L[i][k] * U[k][j]\n",
    "            U[i][j] = A[i][j] - sum\n",
    "\n",
    "        else:\n",
    "            sum = 0\n",
    "            for k in range (j+1):\n",
    "                sum += L[i][k] * U[k][j]\n",
    "            L[i][j] = 1/U[j][j] * (A[i][j] - sum)\n",
    "\n",
    "y = np.zeros([5,1])\n",
    "y[0] = b[0]\n",
    "x = np.zeros([5,1])\n",
    "for i in range (1, 5):\n",
    "    sum = 0\n",
    "    for j in range (i):\n",
    "        sum += y[j]*L[i][j]\n",
    "    y[i] = b[i] - sum\n",
    "\n",
    "x = np.zeros([5,1])\n",
    "x[4] = y[4]/U[4][4]\n",
    "for k in range (3, -1, -1):\n",
    "    sum = 0\n",
    "    for j in range (k+1, 5):\n",
    "        sum += U[k][j] * x[j]\n",
    "    x[k] = (1 / U[k][k]) * (y[k] - sum)\n",
    "x\n"
   ]
  },
  {
   "cell_type": "markdown",
   "metadata": {},
   "source": [
    "Как можно увидеть, решение совпало с ответом, полученным благодаря $numpy$"
   ]
  },
  {
   "cell_type": "markdown",
   "metadata": {},
   "source": [
    "Попробуем решить новую СЛАУ с помощью метода минимальных невязок. Используем прежний алгоритм."
   ]
  },
  {
   "cell_type": "code",
   "execution_count": 58,
   "metadata": {},
   "outputs": [
    {
     "data": {
      "text/plain": [
       "array([ 33.41,  63.34, -38.52, -41.76, -18.62])"
      ]
     },
     "execution_count": 58,
     "metadata": {},
     "output_type": "execute_result"
    }
   ],
   "source": [
    "x = np.array([0, 0, 0, 0, 0])\n",
    "rk = mulp(A, x) - b\n",
    "rk = np.array(rk)\n",
    "rk"
   ]
  },
  {
   "cell_type": "code",
   "execution_count": 59,
   "metadata": {},
   "outputs": [
    {
     "data": {
      "text/plain": [
       "-0.001075956607833008"
      ]
     },
     "execution_count": 59,
     "metadata": {},
     "output_type": "execute_result"
    }
   ],
   "source": [
    "Ark = mulp(A, rk)\n",
    "numerator = 0\n",
    "denominator = 0\n",
    "for i in range (5):\n",
    "    numerator += Ark[i] * rk[i]\n",
    "    denominator += Ark[i]**2\n",
    "tao = numerator / denominator\n",
    "tao"
   ]
  },
  {
   "cell_type": "code",
   "execution_count": 60,
   "metadata": {},
   "outputs": [
    {
     "name": "stdout",
     "output_type": "stream",
     "text": [
      "20.37468983879487 [0 0 0 0 0] -0.001075956607833008\n",
      "20.37911894199815 [ 0.03594771  0.06815109 -0.04144585 -0.04493195 -0.02003431] -0.00021282864521213128\n",
      "20.3794067508933 [ 0.04370509  0.08166641 -0.04982541 -0.05253443 -0.02460227] -4.330806182705924e-05\n",
      "20.379444290937563 [ 0.04530948  0.08441881 -0.05153606 -0.05403025 -0.02555242] -8.861265872469803e-06\n",
      "20.379451118535773 [ 0.04563884  0.08498208 -0.0518863  -0.05433418 -0.02574766] -1.8151255691268067e-06\n",
      "20.379452481505172 [ 0.04570634  0.08509746 -0.05195805 -0.05439635 -0.02578768] -3.718917120775395e-07\n",
      "20.379452759265178 [ 0.04572018  0.0851211  -0.05197275 -0.05440908 -0.02579588] -7.619852829872675e-08\n",
      "20.379452816114036 [ 0.04572301  0.08512595 -0.05197576 -0.05441169 -0.02579757] -1.5612800758794042e-08\n",
      "20.37945282775953 [ 0.04572359  0.08512694 -0.05197638 -0.05441223 -0.02579791] -3.1990122420236326e-09\n",
      "20.379452830145546 [ 0.04572371  0.08512714 -0.05197651 -0.05441234 -0.02579798] -6.554674956705678e-10\n",
      "20.379452830634428 [ 0.04572374  0.08512718 -0.05197653 -0.05441236 -0.02579799] -1.3430322976151094e-10\n",
      "20.379452830734596 [ 0.04572374  0.08512719 -0.05197654 -0.05441236 -0.025798  ] -2.7518310111882555e-11\n",
      "20.37945283075512 [ 0.04572374  0.08512719 -0.05197654 -0.05441236 -0.025798  ] -5.638415268684375e-12\n",
      "20.379452830759327 [ 0.04572374  0.08512719 -0.05197654 -0.05441236 -0.025798  ] -1.155293720112085e-12\n",
      "20.37945283076019 [ 0.04572374  0.08512719 -0.05197654 -0.05441236 -0.025798  ] -2.367169188172089e-13\n",
      "20.379452830760364 [ 0.04572374  0.08512719 -0.05197654 -0.05441236 -0.025798  ] -4.85019380400205e-14\n",
      "20.379452830760403 [ 0.04572374  0.08512719 -0.05197654 -0.05441236 -0.025798  ] -9.937704424962803e-15\n",
      "20.37945283076041 [ 0.04572374  0.08512719 -0.05197654 -0.05441236 -0.025798  ] -2.0361749444470105e-15\n",
      "20.37945283076041 [ 0.04572374  0.08512719 -0.05197654 -0.05441236 -0.025798  ] -4.166005574224271e-16\n",
      "20.37945283076041 [ 0.04572374  0.08512719 -0.05197654 -0.05441236 -0.025798  ] -8.529357056822261e-17\n",
      "20.37945283076041 [ 0.04572374  0.08512719 -0.05197654 -0.05441236 -0.025798  ] -1.789492558980365e-17\n",
      "20.37945283076041 [ 0.04572374  0.08512719 -0.05197654 -0.05441236 -0.025798  ] -3.1776036094043897e-18\n",
      "20.37945283076041 [ 0.04572374  0.08512719 -0.05197654 -0.05441236 -0.025798  ] -1.5051806570862902e-18\n",
      "20.37945283076041 [ 0.04572374  0.08512719 -0.05197654 -0.05441236 -0.025798  ] 1.5051806570862903e-18\n",
      "20.37945283076041 [ 0.04572374  0.08512719 -0.05197654 -0.05441236 -0.025798  ] -1.5051806570862902e-18\n",
      "20.37945283076041 [ 0.04572374  0.08512719 -0.05197654 -0.05441236 -0.025798  ] 1.5051806570862903e-18\n",
      "20.37945283076041 [ 0.04572374  0.08512719 -0.05197654 -0.05441236 -0.025798  ] -1.5051806570862902e-18\n",
      "20.37945283076041 [ 0.04572374  0.08512719 -0.05197654 -0.05441236 -0.025798  ] 1.5051806570862903e-18\n",
      "20.37945283076041 [ 0.04572374  0.08512719 -0.05197654 -0.05441236 -0.025798  ] -1.5051806570862902e-18\n",
      "20.37945283076041 [ 0.04572374  0.08512719 -0.05197654 -0.05441236 -0.025798  ] 1.5051806570862903e-18\n",
      "20.37945283076041 [ 0.04572374  0.08512719 -0.05197654 -0.05441236 -0.025798  ] -1.5051806570862902e-18\n",
      "20.37945283076041 [ 0.04572374  0.08512719 -0.05197654 -0.05441236 -0.025798  ] 1.5051806570862903e-18\n",
      "20.37945283076041 [ 0.04572374  0.08512719 -0.05197654 -0.05441236 -0.025798  ] -1.5051806570862902e-18\n",
      "20.37945283076041 [ 0.04572374  0.08512719 -0.05197654 -0.05441236 -0.025798  ] 1.5051806570862903e-18\n",
      "20.37945283076041 [ 0.04572374  0.08512719 -0.05197654 -0.05441236 -0.025798  ] -1.5051806570862902e-18\n",
      "20.37945283076041 [ 0.04572374  0.08512719 -0.05197654 -0.05441236 -0.025798  ] 1.5051806570862903e-18\n",
      "20.37945283076041 [ 0.04572374  0.08512719 -0.05197654 -0.05441236 -0.025798  ] -1.5051806570862902e-18\n",
      "20.37945283076041 [ 0.04572374  0.08512719 -0.05197654 -0.05441236 -0.025798  ] 1.5051806570862903e-18\n",
      "20.37945283076041 [ 0.04572374  0.08512719 -0.05197654 -0.05441236 -0.025798  ] -1.5051806570862902e-18\n",
      "20.37945283076041 [ 0.04572374  0.08512719 -0.05197654 -0.05441236 -0.025798  ] 1.5051806570862903e-18\n",
      "20.37945283076041 [ 0.04572374  0.08512719 -0.05197654 -0.05441236 -0.025798  ] -1.5051806570862902e-18\n",
      "20.37945283076041 [ 0.04572374  0.08512719 -0.05197654 -0.05441236 -0.025798  ] 1.5051806570862903e-18\n",
      "20.37945283076041 [ 0.04572374  0.08512719 -0.05197654 -0.05441236 -0.025798  ] -1.5051806570862902e-18\n",
      "20.37945283076041 [ 0.04572374  0.08512719 -0.05197654 -0.05441236 -0.025798  ] 1.5051806570862903e-18\n",
      "20.37945283076041 [ 0.04572374  0.08512719 -0.05197654 -0.05441236 -0.025798  ] -1.5051806570862902e-18\n",
      "20.37945283076041 [ 0.04572374  0.08512719 -0.05197654 -0.05441236 -0.025798  ] 1.5051806570862903e-18\n",
      "20.37945283076041 [ 0.04572374  0.08512719 -0.05197654 -0.05441236 -0.025798  ] -1.5051806570862902e-18\n",
      "20.37945283076041 [ 0.04572374  0.08512719 -0.05197654 -0.05441236 -0.025798  ] 1.5051806570862903e-18\n",
      "20.37945283076041 [ 0.04572374  0.08512719 -0.05197654 -0.05441236 -0.025798  ] -1.5051806570862902e-18\n",
      "20.37945283076041 [ 0.04572374  0.08512719 -0.05197654 -0.05441236 -0.025798  ] 1.5051806570862903e-18\n",
      "20.37945283076041 [ 0.04572374  0.08512719 -0.05197654 -0.05441236 -0.025798  ] -1.5051806570862902e-18\n",
      "20.37945283076041 [ 0.04572374  0.08512719 -0.05197654 -0.05441236 -0.025798  ] 1.5051806570862903e-18\n",
      "20.37945283076041 [ 0.04572374  0.08512719 -0.05197654 -0.05441236 -0.025798  ] -1.5051806570862902e-18\n",
      "20.37945283076041 [ 0.04572374  0.08512719 -0.05197654 -0.05441236 -0.025798  ] 1.5051806570862903e-18\n",
      "20.37945283076041 [ 0.04572374  0.08512719 -0.05197654 -0.05441236 -0.025798  ] -1.5051806570862902e-18\n",
      "20.37945283076041 [ 0.04572374  0.08512719 -0.05197654 -0.05441236 -0.025798  ] 1.5051806570862903e-18\n",
      "20.37945283076041 [ 0.04572374  0.08512719 -0.05197654 -0.05441236 -0.025798  ] -1.5051806570862902e-18\n",
      "20.37945283076041 [ 0.04572374  0.08512719 -0.05197654 -0.05441236 -0.025798  ] 1.5051806570862903e-18\n",
      "20.37945283076041 [ 0.04572374  0.08512719 -0.05197654 -0.05441236 -0.025798  ] -1.5051806570862902e-18\n",
      "20.37945283076041 [ 0.04572374  0.08512719 -0.05197654 -0.05441236 -0.025798  ] 1.5051806570862903e-18\n",
      "20.37945283076041 [ 0.04572374  0.08512719 -0.05197654 -0.05441236 -0.025798  ] -1.5051806570862902e-18\n",
      "20.37945283076041 [ 0.04572374  0.08512719 -0.05197654 -0.05441236 -0.025798  ] 1.5051806570862903e-18\n",
      "20.37945283076041 [ 0.04572374  0.08512719 -0.05197654 -0.05441236 -0.025798  ] -1.5051806570862902e-18\n",
      "20.37945283076041 [ 0.04572374  0.08512719 -0.05197654 -0.05441236 -0.025798  ] 1.5051806570862903e-18\n",
      "20.37945283076041 [ 0.04572374  0.08512719 -0.05197654 -0.05441236 -0.025798  ] -1.5051806570862902e-18\n",
      "20.37945283076041 [ 0.04572374  0.08512719 -0.05197654 -0.05441236 -0.025798  ] 1.5051806570862903e-18\n",
      "20.37945283076041 [ 0.04572374  0.08512719 -0.05197654 -0.05441236 -0.025798  ] -1.5051806570862902e-18\n",
      "20.37945283076041 [ 0.04572374  0.08512719 -0.05197654 -0.05441236 -0.025798  ] 1.5051806570862903e-18\n",
      "20.37945283076041 [ 0.04572374  0.08512719 -0.05197654 -0.05441236 -0.025798  ] -1.5051806570862902e-18\n",
      "20.37945283076041 [ 0.04572374  0.08512719 -0.05197654 -0.05441236 -0.025798  ] 1.5051806570862903e-18\n",
      "20.37945283076041 [ 0.04572374  0.08512719 -0.05197654 -0.05441236 -0.025798  ] -1.5051806570862902e-18\n",
      "20.37945283076041 [ 0.04572374  0.08512719 -0.05197654 -0.05441236 -0.025798  ] 1.5051806570862903e-18\n",
      "20.37945283076041 [ 0.04572374  0.08512719 -0.05197654 -0.05441236 -0.025798  ] -1.5051806570862902e-18\n",
      "20.37945283076041 [ 0.04572374  0.08512719 -0.05197654 -0.05441236 -0.025798  ] 1.5051806570862903e-18\n",
      "20.37945283076041 [ 0.04572374  0.08512719 -0.05197654 -0.05441236 -0.025798  ] -1.5051806570862902e-18\n",
      "20.37945283076041 [ 0.04572374  0.08512719 -0.05197654 -0.05441236 -0.025798  ] 1.5051806570862903e-18\n",
      "20.37945283076041 [ 0.04572374  0.08512719 -0.05197654 -0.05441236 -0.025798  ] -1.5051806570862902e-18\n",
      "20.37945283076041 [ 0.04572374  0.08512719 -0.05197654 -0.05441236 -0.025798  ] 1.5051806570862903e-18\n",
      "20.37945283076041 [ 0.04572374  0.08512719 -0.05197654 -0.05441236 -0.025798  ] -1.5051806570862902e-18\n",
      "20.37945283076041 [ 0.04572374  0.08512719 -0.05197654 -0.05441236 -0.025798  ] 1.5051806570862903e-18\n",
      "20.37945283076041 [ 0.04572374  0.08512719 -0.05197654 -0.05441236 -0.025798  ] -1.5051806570862902e-18\n",
      "20.37945283076041 [ 0.04572374  0.08512719 -0.05197654 -0.05441236 -0.025798  ] 1.5051806570862903e-18\n",
      "20.37945283076041 [ 0.04572374  0.08512719 -0.05197654 -0.05441236 -0.025798  ] -1.5051806570862902e-18\n",
      "20.37945283076041 [ 0.04572374  0.08512719 -0.05197654 -0.05441236 -0.025798  ] 1.5051806570862903e-18\n",
      "20.37945283076041 [ 0.04572374  0.08512719 -0.05197654 -0.05441236 -0.025798  ] -1.5051806570862902e-18\n",
      "20.37945283076041 [ 0.04572374  0.08512719 -0.05197654 -0.05441236 -0.025798  ] 1.5051806570862903e-18\n",
      "20.37945283076041 [ 0.04572374  0.08512719 -0.05197654 -0.05441236 -0.025798  ] -1.5051806570862902e-18\n",
      "20.37945283076041 [ 0.04572374  0.08512719 -0.05197654 -0.05441236 -0.025798  ] 1.5051806570862903e-18\n",
      "20.37945283076041 [ 0.04572374  0.08512719 -0.05197654 -0.05441236 -0.025798  ] -1.5051806570862902e-18\n",
      "20.37945283076041 [ 0.04572374  0.08512719 -0.05197654 -0.05441236 -0.025798  ] 1.5051806570862903e-18\n",
      "20.37945283076041 [ 0.04572374  0.08512719 -0.05197654 -0.05441236 -0.025798  ] -1.5051806570862902e-18\n",
      "20.37945283076041 [ 0.04572374  0.08512719 -0.05197654 -0.05441236 -0.025798  ] 1.5051806570862903e-18\n",
      "20.37945283076041 [ 0.04572374  0.08512719 -0.05197654 -0.05441236 -0.025798  ] -1.5051806570862902e-18\n",
      "20.37945283076041 [ 0.04572374  0.08512719 -0.05197654 -0.05441236 -0.025798  ] 1.5051806570862903e-18\n",
      "20.37945283076041 [ 0.04572374  0.08512719 -0.05197654 -0.05441236 -0.025798  ] -1.5051806570862902e-18\n",
      "20.37945283076041 [ 0.04572374  0.08512719 -0.05197654 -0.05441236 -0.025798  ] 1.5051806570862903e-18\n",
      "20.37945283076041 [ 0.04572374  0.08512719 -0.05197654 -0.05441236 -0.025798  ] -1.5051806570862902e-18\n",
      "20.37945283076041 [ 0.04572374  0.08512719 -0.05197654 -0.05441236 -0.025798  ] 1.5051806570862903e-18\n",
      "20.37945283076041 [ 0.04572374  0.08512719 -0.05197654 -0.05441236 -0.025798  ] -1.5051806570862902e-18\n",
      "20.37945283076041 [ 0.04572374  0.08512719 -0.05197654 -0.05441236 -0.025798  ] 1.5051806570862903e-18\n"
     ]
    }
   ],
   "source": [
    "xk = x\n",
    "taok = tao\n",
    "k = 0\n",
    "error = [] # заполняем значением ошибки на каждой итерации\n",
    "ostan = [] # заполняем значением невязки на каждой итерации\n",
    "for i in range (100):\n",
    "    ostan.append(norm(rk))\n",
    "    error.append(norm(res - xk))\n",
    "    print(norm(res - xk), xk, taok)\n",
    "    k += 1\n",
    "    xk = xk - taok*rk\n",
    "    rk = mulp(A, xk) - b\n",
    "    numerator = 0\n",
    "    denominator = 0\n",
    "    Ark = mulp(A, rk)\n",
    "    for i in range (5):\n",
    "        numerator += Ark[i] * rk[i]\n",
    "        denominator += Ark[i]**2\n",
    "    taok = numerator / denominator \n",
    "else:\n",
    "    xk = xk - taok*rk"
   ]
  },
  {
   "cell_type": "markdown",
   "metadata": {},
   "source": [
    "Выше в ходе каждой итерации выводились следующие данные: $||x - x^{k}||, \\quad x^{k}, \\quad \\tau^{k}$"
   ]
  },
  {
   "cell_type": "code",
   "execution_count": 61,
   "metadata": {},
   "outputs": [
    {
     "data": {
      "image/png": "[encoded data removed]",
      "text/plain": [
       "<Figure size 1600x900 with 1 Axes>"
      ]
     },
     "metadata": {},
     "output_type": "display_data"
    }
   ],
   "source": [
    "fig, ax = plt.subplots(figsize = (16, 9))\n",
    "plt.grid()\n",
    "plt.xlabel('Номер итерации')\n",
    "plt.ylabel('Значение ошибки')\n",
    "plt.plot(error, c = 'red')\n",
    "plt.show()"
   ]
  },
  {
   "cell_type": "markdown",
   "metadata": {},
   "source": [
    "Как можно увидеть, метод минимальных невязок \"не справился\" с данной СЛАУ, так как мы нарушили условие диагонального преобладания. Было проведено 100 итераций алгоритма, в ходе которых ошибка алгоритма почти не изменилась, что можно увидеть из графика. Также по выведенным в ходе каждой итерации алгоритма данным видно, что величина $\\tau^{k}$ стремится к 0. Это и приводит к тому, что решение и ошибка всё меньше меняются с каждой итерацией."
   ]
  }
 ],
 "metadata": {
  "kernelspec": {
   "display_name": "Python 3",
   "language": "python",
   "name": "python3"
  },
  "language_info": {
   "codemirror_mode": {
    "name": "ipython",
    "version": 3
   },
   "file_extension": ".py",
   "mimetype": "text/x-python",
   "name": "python",
   "nbconvert_exporter": "python",
   "pygments_lexer": "ipython3",
   "version": "3.11.4"
  }
 },
 "nbformat": 4,
 "nbformat_minor": 2
}
